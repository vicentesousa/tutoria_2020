{
 "cells": [
  {
   "cell_type": "markdown",
   "metadata": {},
   "source": [
    "## Tutorial de Instalação e configuração do Matlab 2018a\n",
    "## Objetivos\n",
    "As metas desse tutorial são ajudar o usuário a:\n",
    "- Instalar e configurar o Matlab2018a\n",
    "- Instalar e configurar o Kernel  do Matlab2018 para o Jupyter Notebook"
   ]
  },
  {
   "cell_type": "markdown",
   "metadata": {},
   "source": [
    "## Instalação e configuração do Matlab 2018a"
   ]
  },
  {
   "cell_type": "markdown",
   "metadata": {
    "collapsed": true
   },
   "source": [
    "**Passo 0**: Mudar permissões da pasta com a instalação do Matlab (estamos supondo que a pasta é **matlab_2018_a**) e que ela se encontra no seu home. Assim, digite:\n",
    "\n",
    "> ```bash \n",
    "sudo chmod -R 777 ~/matlab_2018_a\n",
    "```\n",
    "\n",
    "\n",
    "**Passo 1**: Entrar na pasta com a instalação do Matlab (estamos supondo que a pasta é **matlab_2018_a**) e que ela se encontra no seu home. Assim, digite:\n",
    "\n",
    "> ```bash \n",
    "cd matlab_20105_a \n",
    "```\n",
    "\n",
    "**Passo 2**: Chame o comando de instalação, digitando:\n",
    "\n",
    "> ```bash\n",
    "sudo ./install\n",
    "```\n",
    "\n",
    " - Escolha opção \"File Installation Key\";\n",
    " - Use o seguinte serial 09806-07443-53955-64350-21751-41297;\n",
    " - Atenção: **Não** inclua o toolbox **computer vision** na sua instalação e ignore qualquer mensagem de incompatibilidade;\n",
    " - Pronto! O Matlab será instalado na pasta \"/usr/local/MATLAB/R2018a”.\n",
    "\n",
    "**Passo 4**: Depois de instalado, copiei a pasta **bin** para /usr/local/MATLAB/R2018a\n",
    "\n",
    "> ```bash\n",
    "sudo cp -r ./Crack/R2018a/bin /usr/local/MATLAB/R2018a\n",
    "```\n",
    "\n",
    "**Passo 5**:  Instalar suporte do Matlab no Ubuntu (lembrar que a pasta do Matlab é /usr/local/MATLAB/R2018a):\n",
    "\n",
    "> ```bash\n",
    "sudo apt-get install matlab-support\n",
    "\n",
    "\n",
    " - Será pedido para ativar o Matlab quando executado. Escolha para “active manually without internet” e aponte para o arquivo de licença  “license_standalone.lic”. Caso aconteça um erro de permissão, digite:\n",
    "\n",
    "> ```bash\n",
    "sudo chmod -R 777 /usr/local/MATLAB/\n",
    "```\n",
    "\n",
    "\n",
    "**Passo 6**: Mudar as permissões de pasta para o kernel do jupyter notebook funcionar (substitua \"gppcom\" pelo seu nome de usuário!).\n",
    "\n",
    "> ```\n",
    "sudo chown gppcom -R ~/.matlab\n",
    "```"
   ]
  },
  {
   "cell_type": "markdown",
   "metadata": {},
   "source": [
    "## Instalação do suporte ao Matlab no Jupyter Notebook (Kernel do Matlab)"
   ]
  },
  {
   "cell_type": "markdown",
   "metadata": {},
   "source": [
    "**Passo 1**: Precisamos do Pyhton 3.4, assim assumiremos que você instalou o Anaconda e criou um ambiente virtual chamado **py34**, no qual tem uma instalação do Python 3.4 (caso precise, verificar as instruções em [Básico do Jupyter Notebook: Instalação e prática](https://github.com/vicentesousa/DCO2004_LabPSC/blob/master/h00_BJ.ipynb)):\n",
    "\n",
    "  - Para saber os requisitos do sistema (versões do Pyhton e do Matlab), consulte [este link](https://www.mathworks.com/help/matlab/matlab_external/system-requirements-for-matlab-engine-for-python.html). \n",
    "\n",
    "**Passo 2**: Instalar o Matlab Engine para Python, digite (estamos supondo que o seu Matlab está instalado na pasta “/usr/local/MATLAB/MATLAB_Production_Server/R2015a”) \n",
    "\n",
    "> ```bash\n",
    "cd \"/usr/local/MATLAB/R2018a/extern/engines/python\"\n",
    "```\n",
    "\n",
    "\n",
    "Certifique-se de que o ambiente virtual está ativo para o próximo passo!\n",
    "\n",
    "> ```bash\n",
    "python setup.py install --user\n",
    "```\n",
    "\n",
    "Caso apareça uma mensagem de permissão negada ao executar a linha acima, digite o seguinte comando e tente novamente.\n",
    "\n",
    "> ```bash\n",
    "sudo chmod -R 777 ./\n",
    "```\n",
    "\n",
    "Mais informações clique [aqui](https://www.mathworks.com/help/matlab/matlab_external/install-the-matlab-engine-for-python.html?requestedDomain=www.mathworks.com).\n",
    "\n",
    "**Passo 3**: Instalar o Kernel do Matlab Jupyter Notebook, digite:\n",
    "\n",
    "> ```bash\n",
    "pip install matlab_kernel\n",
    "```\n",
    "\n",
    "* Caso se depare com um erro de versão do Python e o Kernel não baixe, utilize o seguinte comando:\n",
    "\n",
    "> ```bash\n",
    "pip install matlab_kernel --ignore-requires-python\n",
    "```\n",
    "\n",
    "* Finalize o processo utilizando:\n",
    "\n",
    "> ```bash\n",
    "python -m matlab_kernel install --user\n",
    "```\n",
    "\n",
    "**Passo 4**: Mudar as permissões de pasta para o kernel do jupyter notebook funcionar. Digite (os comandos abaixo consideram que o usuário é **gppcom**):\n",
    "\n",
    "> ```bash\n",
    "sudo chown gppcom -R ~/.matlab\n",
    "```\n",
    "\n",
    "> ```bash\n",
    "sudo chown gppcom -R ~/.local/lib/\n",
    "```\n",
    "\n",
    "[Fonte: Jupyter Kernel for Matlab](https://github.com/Calysto/matlab_kernel)."
   ]
  },
  {
   "cell_type": "markdown",
   "metadata": {},
   "source": [
    "## Prática 01: Teste do suporte ao Matlab no Jupiter Notebook (Kernel do Matlab)"
   ]
  },
  {
   "cell_type": "markdown",
   "metadata": {
    "collapsed": true
   },
   "source": [
    "**Passo 0:** É possível que aconteça um **Internal Error 500** ao finalizar a instalação do kernel do MatLab quando tentar abrir um novo notebook por meio do Jupyter Notebook. Para solucionar este erro, digite:\n",
    "\n",
    "> ```bash \n",
    "pip install --upgrade --user nbconvert --ignore-requires-python\n",
    " ```\n",
    "\n",
    "**Passo 1:** Abrir o console do Jupyter Notebook. Digite em um terminal:\n",
    "> jupyter notebook\n",
    "\n",
    "**Passo 2:** Criar um notebook vazio.\n",
    "![fig_testMatPasso2](./FIGS/HD_00_JM/test_02.png)\n",
    "\n",
    "**Passo 3:** Dar um nome ao notebook (testMatlab). Clique no nome atual (untitled) que a seguinte tela aparecerá:\n",
    "![fig_testMatPasso3](./FIGS/HD_00_JM/test_03.png)\n",
    "\n",
    "\n",
    "**Passo 4:** Ativar o kernel do Matlab. Vá no meu Kernel -> Change Kernel -> matlab:\n",
    "![fig_testMatPasso4](./FIGS/HD_00_JM/test_04.png)\n",
    "\n",
    "\n",
    "**Passo 5:** Digite o seguinte código em uma célula com o tipo \"code\":"
   ]
  },
  {
   "cell_type": "markdown",
   "metadata": {
    "collapsed": true
   },
   "source": [
    "> ```bash\n",
    "t = 0:0.01:10;\n",
    "s = sin(2*pi*0.5*t);\n",
    "plot(t,s);\n",
    "```"
   ]
  },
  {
   "cell_type": "markdown",
   "metadata": {},
   "source": [
    "\n",
    "**Passo 6:** Utilize o atalho shift+enter para executar o comando.\n",
    "\n",
    "![fig_testMatPasso6](./FIGS/HD_00_JM/test_06.png)\n",
    "\n",
    "**Alternativa:** Ative o kernel do Matlab e execute a célula do passo 5 deste próprio notebook!!!"
   ]
  }
 ],
 "metadata": {
  "kernelspec": {
   "display_name": "Python 3",
   "language": "python",
   "name": "python3"
  },
  "language_info": {
   "codemirror_mode": {
    "name": "ipython",
    "version": 3
   },
   "file_extension": ".py",
   "mimetype": "text/x-python",
   "name": "python",
   "nbconvert_exporter": "python",
   "pygments_lexer": "ipython3",
   "version": "3.6.12"
  },
  "latex_envs": {
   "LaTeX_envs_menu_present": true,
   "autoclose": false,
   "autocomplete": true,
   "bibliofile": "biblio.bib",
   "cite_by": "apalike",
   "current_citInitial": 1,
   "eqLabelWithNumbers": true,
   "eqNumInitial": 1,
   "hotkeys": {
    "equation": "Ctrl-E",
    "itemize": "Ctrl-I"
   },
   "labels_anchors": false,
   "latex_user_defs": false,
   "report_style_numbering": false,
   "user_envs_cfg": false
  }
 },
 "nbformat": 4,
 "nbformat_minor": 2
}
