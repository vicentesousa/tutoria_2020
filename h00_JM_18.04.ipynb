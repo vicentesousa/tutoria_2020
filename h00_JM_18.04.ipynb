{
 "cells": [
  {
   "cell_type": "markdown",
   "metadata": {},
   "source": [
    "## Tutorial de Instalação e configuração do Matlab 2015a\n",
    "## Objetivos\n",
    "As metas desse tutorial são ajudar o usuário a:\n",
    "- Instalar e configurar o Matlab2015a\n",
    "- Instalar e configurar o Kernel  do Matlab2015 para o Jupyter Notebook"
   ]
  },
  {
   "cell_type": "markdown",
   "metadata": {},
   "source": [
    "## Instalação e configuração do Matlab 2015a"
   ]
  },
  {
   "cell_type": "markdown",
   "metadata": {
    "collapsed": true
   },
   "source": [
    "**Passo 0**: Entrar na pasta com a instalação do Matlab (estamos supondo que a pasta é **matlab_20105_a**) e que ela se encontra no seu home. Assim, digite:\n",
    "> ```bash\n",
    "cd matlab_20105_a\n",
    "```\n",
    "\n",
    "**Passo 1**: Copie install.jar da pasta \"fixr2015arel\" para a pasta java/jar. Digite no terminal:\n",
    "> ```bash\n",
    "cp fixr2015arel/install.jar java/jar\n",
    "```\n",
    "\n",
    "**Passo 2**: Mude a permissão de toda a pasta do Matlab, digitando (se você estiver dentro da pasta matlab_temp):\n",
    "> ```bash\n",
    "chmod 777 -R ../matlab_temp\n",
    "```\n",
    "\n",
    "**Passo 3**: Chame o comando de instalação, digitando:\n",
    "> ```bash\n",
    "sudo ./install\n",
    "```\n",
    " \n",
    " - Escolha opção \"File Installation Key\";\n",
    " - Use o seguinte serial 58691-35070-25550-28046-23042;\n",
    " - Pronto! O Matlab será instalado na pasta \" /usr/local/MATLAB/MATLAB_Production_Server/R2015a/”.\n",
    "\n",
    "**Passo 4**: Depois de instalado, copiei o arquivo \"libmwservices.so\" da pasta \"fixr2015arel\" para a pasta \"/usr/local/MATLAB/MATLAB_Production_Server/R2015a/bin/glnxa64”\n",
    "> ```bash\n",
    "sudo cp fixr2015arel/libmwservices.so  /usr/local/MATLAB/MATLAB_Production_Server/R2015a/bin/glnxa64\n",
    "```\n",
    "\n",
    "**Passo 5**:  Instalar suporte do Matlab no Ubuntu (lembrar que a pasta do Matlab é /usr/local/MATLAB/MATLAB_Production_Server/R2015a/):\n",
    "> ```bash\n",
    "sudo apt-get install matlab-support\n",
    "```\n",
    "\n",
    " - Será pedido para ativar o Matlab quando executado. Escolha para “active manually without internet” e aponte para o arquivo de licença  “fixr2015arel/Standalone License.lic”. Caso aconteça um erro de permissão, digite:\n",
    "\n",
    "> ```bash\n",
    "sudo chmod -R 777 /usr/local/MATLAB/\n",
    "```\n",
    "\n",
    "**Passo 6**: Mudar as permissões de pasta para o kernel do jupyter notebook funcionar (substitua \"gppcom\" pelo seu nome de usuário!).\n",
    "> ```bash\n",
    "sudo chown gppcom -R ~/.matlab\n",
    "```\n",
    "\n",
    "**Passo 7**: Para evitar problemas com as bibliotecas gráficas do openGL, digite em um terminal:\n",
    "> ```bash\n",
    "sudo mv /usr/local/MATLAB/MATLAB_Production_Server/R2015a/sys/os/glnxa64/libstdc++.so.6 /usr/local/MATLAB/MATLAB_Production_Server/R2015a/sys/os/glnxa64/libstdc++.so.6_old```"
   ]
  },
  {
   "cell_type": "markdown",
   "metadata": {},
   "source": [
    "## Instalação do suporte ao Matlab no Jupyter Notebook (Kernel do Matlab)"
   ]
  },
  {
   "cell_type": "markdown",
   "metadata": {},
   "source": [
    "**Passo 1**: Precisamos do Pyhton 3.4, assim assumiremos que você instalou o Anaconda e criou um ambiente virtual chamado **py34**, no qual tem uma instalação do Python 3.4 (caso precise, verificar as instruções em [Básico do Jupyter Notebook: Instalação e prática](https://github.com/vicentesousa/DCO2004_LabPSC/blob/master/h00_BJ.ipynb)):\n",
    "\n",
    "  - Para saber os requisitos do sistema (versões do Pyhton e do Matlab), consulte [este link](https://www.mathworks.com/help/matlab/matlab_external/system-requirements-for-matlab-engine-for-python.html). \n",
    "\n",
    "**Passo 2**: Instalar o Matlab Engine para Python, digite (estamos supondo que o seu Matlab está instalado na pasta “/usr/local/MATLAB/MATLAB_Production_Server/R2015a”) \n",
    "\n",
    "> ```bash\n",
    "cd \"/usr/local/MATLAB/MATLAB_Production_Server/R2015a/extern/engines/python\"\n",
    "```\n",
    "\n",
    "Certifique-se de que o ambiente virtual está ativo para o próximo passo!\n",
    "\n",
    "> ```bash\n",
    "python3 setup.py install --user\n",
    "```\n",
    "\n",
    "Caso apareça uma mensagem de permissão negada ao executar a linha acima, digite o seguinte comando e tente novamente.\n",
    "\n",
    "> ```bash\n",
    "sudo chmod -R 777 ./\n",
    "```\n",
    "\n",
    "Mais informações clique [aqui](https://www.mathworks.com/help/matlab/matlab_external/install-the-matlab-engine-for-python.html?requestedDomain=www.mathworks.com).\n",
    "\n",
    "**Passo 3**: Instalar o Kernel do Matlab Jupyter Notebook, digite:\n",
    "\n",
    "> ```bash\n",
    "pip install matlab_kernel\n",
    "```\n",
    "\n",
    "* Caso se depare com um erro de versão do Python e o Kernel não baixe, utilize o seguinte comando:\n",
    "\n",
    "> ```bash\n",
    "pip install matlab_kernel --ignore-requires-python\n",
    "```\n",
    "\n",
    "* Finalize o processo utilizando:\n",
    "\n",
    "> ```bash\n",
    "python3 -m matlab_kernel install --user\n",
    "```\n",
    "\n",
    "**Passo 4**: Mudar as permissões de pasta para o kernel do jupyter notebook funcionar. Digite (os comandos abaixo consideram que o usuário é **gppcom**):\n",
    "\n",
    "> ```bash\n",
    "sudo chown gppcom -R ~/.matlab\n",
    "```\n",
    "\n",
    "> ```bash\n",
    "sudo chown gppcom -R ~/.local/lib/\n",
    "```\n",
    "\n",
    "**Passo 5**: Para evitar problema nas bilbiotecas openGL, execute o seguinte comando em um terminal:\n",
    "\n",
    "```bash \n",
    "sudo mv /usr/local/MATLAB/MATLAB_Production_Server/R2015a/sys/os/glnxa64/libstdc++.so.6 /usr/local/MATLAB/MATLAB_Production_Server/R2015a/sys/os/glnxa64/libstdc++.so.6_old\n",
    "```\n",
    "\n",
    "[Fonte: Jupyter Kernel for Matlab](https://github.com/Calysto/matlab_kernel)."
   ]
  },
  {
   "cell_type": "markdown",
   "metadata": {},
   "source": [
    "## Prática 01: Teste do suporte ao Matlab no Jupiter Notebook (Kernel do Matlab)"
   ]
  },
  {
   "cell_type": "markdown",
   "metadata": {
    "collapsed": true
   },
   "source": [
    "**Passo 0:** É possível que aconteça um **Internal Error 500** ao finalizar a instalação do kernel do MatLab quando tentar abrir um novo notebook por meio do Jupyter Notebook. Para solucionar este erro, digite:\n",
    "\n",
    "> ```bash \n",
    "pip install --upgrade --user nbconvert --ignore-requires-python\n",
    " ```\n",
    "\n",
    "**Passo 1:** Abrir o console do Jupyter Notebook. Digite em um terminal:\n",
    "> jupyter notebook\n",
    "\n",
    "**Passo 2:** Criar um notebook vazio.\n",
    "![fig_testMatPasso2](./FIGS/HD_00_JM/test_02.png)\n",
    "\n",
    "**Passo 3:** Dar um nome ao notebook (testMatlab). Clique no nome atual (untitled) que a seguinte tela aparecerá:\n",
    "![fig_testMatPasso3](./FIGS/HD_00_JM/test_03.png)\n",
    "\n",
    "\n",
    "**Passo 4:** Ativar o kernel do Matlab. Vá no meu Kernel -> Change Kernel -> matlab:\n",
    "![fig_testMatPasso4](./FIGS/HD_00_JM/test_04.png)\n",
    "\n",
    "\n",
    "**Passo 5:** Digite o seguinte código em uma célula com o tipo \"code\":"
   ]
  },
  {
   "cell_type": "markdown",
   "metadata": {
    "collapsed": true
   },
   "source": [
    "> ```bash\n",
    "t = 0:0.01:10;\n",
    "s = sin(2*pi*0.5*t);\n",
    "plot(t,s);\n",
    "```"
   ]
  },
  {
   "cell_type": "markdown",
   "metadata": {},
   "source": [
    "\n",
    "**Passo 6:** Utilize o atalho shift+enter para executar o comando.\n",
    "\n",
    "![fig_testMatPasso6](./FIGS/HD_00_JM/test_06.png)\n",
    "\n",
    "**Alternativa:** Ative o kernel do Matlab e execute a célula do passo 5 deste próprio notebook!!!"
   ]
  }
 ],
 "metadata": {
  "kernelspec": {
   "display_name": "Python 3",
   "language": "python",
   "name": "python3"
  },
  "language_info": {
   "codemirror_mode": {
    "name": "ipython",
    "version": 3
   },
   "file_extension": ".py",
   "mimetype": "text/x-python",
   "name": "python",
   "nbconvert_exporter": "python",
   "pygments_lexer": "ipython3",
   "version": "3.4.5"
  },
  "latex_envs": {
   "LaTeX_envs_menu_present": true,
   "bibliofile": "biblio.bib",
   "cite_by": "apalike",
   "current_citInitial": 1,
   "eqLabelWithNumbers": true,
   "eqNumInitial": 1,
   "hotkeys": {
    "equation": "Ctrl-E",
    "itemize": "Ctrl-I"
   },
   "labels_anchors": false,
   "latex_user_defs": false,
   "report_style_numbering": false,
   "user_envs_cfg": false
  }
 },
 "nbformat": 4,
 "nbformat_minor": 2
}
